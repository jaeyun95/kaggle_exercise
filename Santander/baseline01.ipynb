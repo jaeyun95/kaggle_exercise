{
  "nbformat": 4,
  "nbformat_minor": 0,
  "metadata": {
    "colab": {
      "name": "baseline01.ipynb",
      "provenance": []
    },
    "kernelspec": {
      "name": "python3",
      "display_name": "Python 3"
    },
    "language_info": {
      "name": "python"
    },
    "accelerator": "GPU"
  },
  "cells": [
    {
      "cell_type": "code",
      "metadata": {
        "colab": {
          "base_uri": "https://localhost:8080/"
        },
        "id": "N3hY1Te7ZElx",
        "outputId": "1d5ead08-6573-415a-fc1b-2329e6dc28b2"
      },
      "source": [
        "import pandas as pd\n",
        "import numpy as np\n",
        "\n",
        "np.random.seed(2021)\n",
        "\n",
        "train_data = pd.read_csv(\"/content/drive/MyDrive/캐글/santander/santander-product-recommendation/train_ver2.csv/train_ver2.csv\")\n",
        "test_data = pd.read_csv(\"/content/drive/MyDrive/캐글/santander/santander-product-recommendation/test_ver2.csv/test_ver2.csv\")\n",
        "\n",
        "prods = train_data.columns[24:].tolist()\n",
        "train_data[prods] = train_data[prods].fillna(0.0).astype(np.int8)\n",
        "\n",
        "# 제품을 하나도 보유하지 않는 고객 데이터 제거\n",
        "no_product = train_data[prods].sum(axis=1) == 0\n",
        "train_data = train_data[~no_product]\n",
        "\n",
        "for col in train_data.columns[24:]:\n",
        "  test_data[col] = 0\n",
        "df = pd.concat([train_data,test_data],axis=0)\n",
        "\n",
        "features = []\n",
        "\n",
        "# 범주형 데이터 컬럼\n",
        "categorical_cols = [\"ind_empleado\",\"pais_residencia\",'sexo','tiprel_1mes','indresi','indext','conyuemp','canal_entrada','indfall','tipodom','nomprov','segmento']\n",
        "\n",
        "# 범주형 데이터는 factorize를 통해 label encoding\n",
        "for col in categorical_cols:\n",
        "  df[col], _ = df[col].factorize(na_sentinel=-99)\n",
        "features += categorical_cols\n",
        "\n",
        "# 수치 변수의 결측값은 -99로 설정\n",
        "df['age'].replace(' NA',-99,inplace=True)\n",
        "df['age'] = df['age'].astype(np.int8)\n",
        "\n",
        "df['antiguedad'].replace('     NA',-99,inplace=True)\n",
        "df['antiguedad'] = df['antiguedad'].astype(np.int8)\n",
        "\n",
        "df['renta'].replace('         NA',-99,inplace=True)\n",
        "df['renta'].fillna(-99, inplace=True)\n",
        "df['renta'] = df['renta'].astype(float).astype(np.int8)\n",
        "\n",
        "df['indrel_1mes'].replace('P',-99,inplace=True)\n",
        "df['indrel_1mes'].fillna(-99,inplace=True)\n",
        "df['indrel_1mes'] = df['indrel_1mes'].astype(float).astype(np.int8)\n",
        "\n",
        "# 학습에 이용할 수치형 변수 \n",
        "features += ['age','antiguedad','renta','ind_nuevo','indrel','indrel_1mes','ind_actividad_cliente']\n"
      ],
      "execution_count": 1,
      "outputs": [
        {
          "output_type": "stream",
          "text": [
            "/usr/local/lib/python3.7/dist-packages/IPython/core/interactiveshell.py:2718: DtypeWarning: Columns (5,8,11,15) have mixed types.Specify dtype option on import or set low_memory=False.\n",
            "  interactivity=interactivity, compiler=compiler, result=result)\n",
            "/usr/local/lib/python3.7/dist-packages/IPython/core/interactiveshell.py:2718: DtypeWarning: Columns (15) have mixed types.Specify dtype option on import or set low_memory=False.\n",
            "  interactivity=interactivity, compiler=compiler, result=result)\n"
          ],
          "name": "stderr"
        }
      ]
    },
    {
      "cell_type": "code",
      "metadata": {
        "id": "7xgiCUCHSxRA"
      },
      "source": [
        "# 첫 계약을 맺은 날짜와, 마지막으로 1등급이었던 날짜로부터 연도, 월 정보 추출\n",
        "df[\"fecha_alta_month\"] = df[\"fecha_alta\"].map(lambda x: 0.0 if x.__class__ is float else float(x.split('-')[1])).astype(np.int8)\n",
        "df[\"fecha_alta_year\"] = df[\"fecha_alta\"].map(lambda x: 0.0 if x.__class__ is float else float(x.split('-')[0])).astype(np.int16)\n",
        "\n",
        "df[\"ult_fec_cli_1t_month\"] = df[\"ult_fec_cli_1t\"].map(lambda x: 0.0 if x.__class__ is float else float(x.split('-')[1])).astype(np.int8)\n",
        "df[\"ult_fec_cli_1t_year\"] = df[\"ult_fec_cli_1t\"].map(lambda x: 0.0 if x.__class__ is float else float(x.split('-')[0])).astype(np.int16)\n",
        "\n",
        "features += [\"fecha_alta_month\",\"fecha_alta_year\",\"ult_fec_cli_1t_month\",\"ult_fec_cli_1t_year\"]\n",
        "\n",
        "df.fillna(-99,inplace=True)\n",
        "\n",
        "# lag-1데이터 생성\n",
        "def date_to_int(str_date):\n",
        "  Y, M, D = [int(a) for a in str_date.strip().split(\"-\")]\n",
        "  int_date = (int(Y)-2015) * 12 + int(M)\n",
        "  return int_date\n",
        "\n",
        "df[\"int_date\"] = df[\"fecha_dato\"].map(date_to_int).astype(np.int8)\n",
        "\n",
        "df_lag = df.copy()\n",
        "df_lag.columns = [col + \"_prev\" if col not in ['ncodpers','int_date'] else col for col in df.columns]\n",
        "df_lag['int_date'] += 1\n",
        "\n",
        "df_trn = df.merge(df_lag, on=['ncodpers','int_date'],how='left')\n",
        "\n",
        "# 메모리 효율을 위해 삭제\n",
        "del df, df_lag\n",
        "\n",
        "# 저번 달의 제품 정보가 존재하지 않으면 0으로 대체\n",
        "for prod in prods:\n",
        "  prev = prod + \"_prev\"\n",
        "  df_trn[prev].fillna(0, inplace=True)\n",
        "df_trn.fillna(-99,inplace=True)\n",
        "\n",
        "features += [feature + \"_prev\" for feature in features]\n",
        "features += [prod + \"_prev\" for prod in prods]\n"
      ],
      "execution_count": null,
      "outputs": []
    }
  ]
}